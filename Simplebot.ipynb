{
 "cells": [
  {
   "cell_type": "code",
   "execution_count": 1,
   "id": "aa483829-bb48-4fa0-bdef-96f9f9841dd8",
   "metadata": {},
   "outputs": [
    {
     "name": "stdout",
     "output_type": "stream",
     "text": [
      "Channels:\n",
      " - defaults\n",
      "Platform: linux-64\n",
      "Collecting package metadata (repodata.json): done\n",
      "Solving environment: done\n",
      "\n",
      "## Package Plan ##\n",
      "\n",
      "  environment location: /home/03d166d9-be12-44e8-b3ca-ac90bbcffdff/.conda/envs/MSAI631_MBF\n",
      "\n",
      "  added / updated specs:\n",
      "    - python==3.8.2\n",
      "\n",
      "\n",
      "The following packages will be downloaded:\n",
      "\n",
      "    package                    |            build\n",
      "    ---------------------------|-----------------\n",
      "    _openmp_mutex-5.1          |            1_gnu          21 KB\n",
      "    ld_impl_linux-64-2.38      |       h1181459_1         654 KB\n",
      "    openssl-1.1.1w             |       h7f8727e_0         3.7 MB\n",
      "    pip-24.0                   |   py38h06a4308_0         2.6 MB\n",
      "    python-3.8.2               |      hcff3b4d_14        49.2 MB\n",
      "    readline-8.2               |       h5eee18b_0         357 KB\n",
      "    setuptools-69.5.1          |   py38h06a4308_0        1002 KB\n",
      "    sqlite-3.45.3              |       h5eee18b_0         1.2 MB\n",
      "    tk-8.6.14                  |       h39e8969_0         3.4 MB\n",
      "    wheel-0.43.0               |   py38h06a4308_0         109 KB\n",
      "    xz-5.4.6                   |       h5eee18b_1         643 KB\n",
      "    zlib-1.2.13                |       h5eee18b_1         111 KB\n",
      "    ------------------------------------------------------------\n",
      "                                           Total:        63.0 MB\n",
      "\n",
      "The following NEW packages will be INSTALLED:\n",
      "\n",
      "  _libgcc_mutex      pkgs/main/linux-64::_libgcc_mutex-0.1-main \n",
      "  _openmp_mutex      pkgs/main/linux-64::_openmp_mutex-5.1-1_gnu \n",
      "  ca-certificates    pkgs/main/linux-64::ca-certificates-2024.3.11-h06a4308_0 \n",
      "  ld_impl_linux-64   pkgs/main/linux-64::ld_impl_linux-64-2.38-h1181459_1 \n",
      "  libffi             pkgs/main/linux-64::libffi-3.3-he6710b0_2 \n",
      "  libgcc-ng          pkgs/main/linux-64::libgcc-ng-11.2.0-h1234567_1 \n",
      "  libgomp            pkgs/main/linux-64::libgomp-11.2.0-h1234567_1 \n",
      "  libstdcxx-ng       pkgs/main/linux-64::libstdcxx-ng-11.2.0-h1234567_1 \n",
      "  ncurses            pkgs/main/linux-64::ncurses-6.4-h6a678d5_0 \n",
      "  openssl            pkgs/main/linux-64::openssl-1.1.1w-h7f8727e_0 \n",
      "  pip                pkgs/main/linux-64::pip-24.0-py38h06a4308_0 \n",
      "  python             pkgs/main/linux-64::python-3.8.2-hcff3b4d_14 \n",
      "  readline           pkgs/main/linux-64::readline-8.2-h5eee18b_0 \n",
      "  setuptools         pkgs/main/linux-64::setuptools-69.5.1-py38h06a4308_0 \n",
      "  sqlite             pkgs/main/linux-64::sqlite-3.45.3-h5eee18b_0 \n",
      "  tk                 pkgs/main/linux-64::tk-8.6.14-h39e8969_0 \n",
      "  wheel              pkgs/main/linux-64::wheel-0.43.0-py38h06a4308_0 \n",
      "  xz                 pkgs/main/linux-64::xz-5.4.6-h5eee18b_1 \n",
      "  zlib               pkgs/main/linux-64::zlib-1.2.13-h5eee18b_1 \n",
      "\n",
      "\n",
      "Proceed ([y]/n)? ^C\n",
      "\n",
      "CondaSystemExit: \n",
      "Operation aborted.  Exiting.\n",
      "\n",
      "\n",
      "Note: you may need to restart the kernel to use updated packages.\n"
     ]
    }
   ],
   "source": [
    "conda create --name MSAI631_MBF python==3.8.2"
   ]
  }
 ],
 "metadata": {
  "kernelspec": {
   "display_name": "anaconda-2024.02-py310",
   "language": "python",
   "name": "conda-env-anaconda-2024.02-py310-py"
  },
  "language_info": {
   "codemirror_mode": {
    "name": "ipython",
    "version": 3
   },
   "file_extension": ".py",
   "mimetype": "text/x-python",
   "name": "python",
   "nbconvert_exporter": "python",
   "pygments_lexer": "ipython3",
   "version": "3.10.14"
  }
 },
 "nbformat": 4,
 "nbformat_minor": 5
}
